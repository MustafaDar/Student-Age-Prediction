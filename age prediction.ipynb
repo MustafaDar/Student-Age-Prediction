{
 "cells": [
  {
   "cell_type": "code",
   "execution_count": 1,
   "metadata": {},
   "outputs": [
    {
     "name": "stderr",
     "output_type": "stream",
     "text": [
      "[nltk_data] Downloading package punkt to /Users/mustafa/nltk_data...\n",
      "[nltk_data]   Package punkt is already up-to-date!\n"
     ]
    }
   ],
   "source": [
    "import nltk\n",
    "nltk.download('punkt')\n",
    "import numpy as np\n",
    "import pandas as pd\n",
    "import nltk\n",
    "from nltk.stem import PorterStemmer\n",
    "from sklearn.feature_extraction.text import CountVectorizer\n",
    "from sklearn.feature_extraction.text import TfidfTransformer\n",
    "from sklearn.model_selection import train_test_split\n",
    "from sklearn.metrics import classification_report,confusion_matrix\n",
    "import seaborn as sns\n",
    "from nltk.corpus import stopwords\n",
    "import matplotlib.pyplot as plt"
   ]
  },
  {
   "cell_type": "code",
   "execution_count": 2,
   "metadata": {},
   "outputs": [],
   "source": [
    "df = pd.read_csv('/Users/mustafa/Desktop/student age prediction task/reading-age-data.csv', encoding='latin-1')\n",
    "df=df.rename(columns={'v1': 'Excerpt','v2': 'Book and Page','v3': 'Age'})"
   ]
  },
  {
   "cell_type": "code",
   "execution_count": 3,
   "metadata": {},
   "outputs": [
    {
     "data": {
      "text/html": [
       "<div>\n",
       "<style scoped>\n",
       "    .dataframe tbody tr th:only-of-type {\n",
       "        vertical-align: middle;\n",
       "    }\n",
       "\n",
       "    .dataframe tbody tr th {\n",
       "        vertical-align: top;\n",
       "    }\n",
       "\n",
       "    .dataframe thead tr th {\n",
       "        text-align: left;\n",
       "    }\n",
       "\n",
       "    .dataframe thead tr:last-of-type th {\n",
       "        text-align: right;\n",
       "    }\n",
       "</style>\n",
       "<table border=\"1\" class=\"dataframe\">\n",
       "  <thead>\n",
       "    <tr>\n",
       "      <th></th>\n",
       "      <th colspan=\"8\" halign=\"left\">autotag</th>\n",
       "    </tr>\n",
       "    <tr>\n",
       "      <th></th>\n",
       "      <th>count</th>\n",
       "      <th>mean</th>\n",
       "      <th>std</th>\n",
       "      <th>min</th>\n",
       "      <th>25%</th>\n",
       "      <th>50%</th>\n",
       "      <th>75%</th>\n",
       "      <th>max</th>\n",
       "    </tr>\n",
       "    <tr>\n",
       "      <th>Age</th>\n",
       "      <th></th>\n",
       "      <th></th>\n",
       "      <th></th>\n",
       "      <th></th>\n",
       "      <th></th>\n",
       "      <th></th>\n",
       "      <th></th>\n",
       "      <th></th>\n",
       "    </tr>\n",
       "  </thead>\n",
       "  <tbody>\n",
       "    <tr>\n",
       "      <th>1</th>\n",
       "      <td>60.0</td>\n",
       "      <td>2.300000</td>\n",
       "      <td>2.226954</td>\n",
       "      <td>1.0</td>\n",
       "      <td>1.00</td>\n",
       "      <td>1.0</td>\n",
       "      <td>3.00</td>\n",
       "      <td>12.0</td>\n",
       "    </tr>\n",
       "    <tr>\n",
       "      <th>2</th>\n",
       "      <td>97.0</td>\n",
       "      <td>3.288660</td>\n",
       "      <td>2.601917</td>\n",
       "      <td>1.0</td>\n",
       "      <td>2.00</td>\n",
       "      <td>2.0</td>\n",
       "      <td>3.00</td>\n",
       "      <td>16.0</td>\n",
       "    </tr>\n",
       "    <tr>\n",
       "      <th>3</th>\n",
       "      <td>137.0</td>\n",
       "      <td>4.445255</td>\n",
       "      <td>3.603348</td>\n",
       "      <td>1.0</td>\n",
       "      <td>3.00</td>\n",
       "      <td>3.0</td>\n",
       "      <td>4.00</td>\n",
       "      <td>18.0</td>\n",
       "    </tr>\n",
       "    <tr>\n",
       "      <th>4</th>\n",
       "      <td>315.0</td>\n",
       "      <td>4.914286</td>\n",
       "      <td>2.912025</td>\n",
       "      <td>1.0</td>\n",
       "      <td>3.00</td>\n",
       "      <td>4.0</td>\n",
       "      <td>5.00</td>\n",
       "      <td>16.0</td>\n",
       "    </tr>\n",
       "    <tr>\n",
       "      <th>5</th>\n",
       "      <td>333.0</td>\n",
       "      <td>5.243243</td>\n",
       "      <td>2.625923</td>\n",
       "      <td>1.0</td>\n",
       "      <td>4.00</td>\n",
       "      <td>5.0</td>\n",
       "      <td>6.00</td>\n",
       "      <td>16.0</td>\n",
       "    </tr>\n",
       "    <tr>\n",
       "      <th>6</th>\n",
       "      <td>330.0</td>\n",
       "      <td>6.500000</td>\n",
       "      <td>3.072824</td>\n",
       "      <td>2.0</td>\n",
       "      <td>4.25</td>\n",
       "      <td>6.0</td>\n",
       "      <td>8.00</td>\n",
       "      <td>26.0</td>\n",
       "    </tr>\n",
       "    <tr>\n",
       "      <th>7</th>\n",
       "      <td>523.0</td>\n",
       "      <td>7.267686</td>\n",
       "      <td>3.138112</td>\n",
       "      <td>1.0</td>\n",
       "      <td>5.00</td>\n",
       "      <td>7.0</td>\n",
       "      <td>8.00</td>\n",
       "      <td>26.0</td>\n",
       "    </tr>\n",
       "    <tr>\n",
       "      <th>8</th>\n",
       "      <td>698.0</td>\n",
       "      <td>7.717765</td>\n",
       "      <td>2.863063</td>\n",
       "      <td>1.0</td>\n",
       "      <td>7.00</td>\n",
       "      <td>8.0</td>\n",
       "      <td>8.00</td>\n",
       "      <td>26.0</td>\n",
       "    </tr>\n",
       "    <tr>\n",
       "      <th>9</th>\n",
       "      <td>860.0</td>\n",
       "      <td>8.318605</td>\n",
       "      <td>2.759828</td>\n",
       "      <td>1.0</td>\n",
       "      <td>7.00</td>\n",
       "      <td>9.0</td>\n",
       "      <td>9.00</td>\n",
       "      <td>26.0</td>\n",
       "    </tr>\n",
       "    <tr>\n",
       "      <th>10</th>\n",
       "      <td>824.0</td>\n",
       "      <td>8.921117</td>\n",
       "      <td>3.054362</td>\n",
       "      <td>2.0</td>\n",
       "      <td>7.00</td>\n",
       "      <td>10.0</td>\n",
       "      <td>10.00</td>\n",
       "      <td>26.0</td>\n",
       "    </tr>\n",
       "    <tr>\n",
       "      <th>11</th>\n",
       "      <td>958.0</td>\n",
       "      <td>9.415449</td>\n",
       "      <td>2.714690</td>\n",
       "      <td>1.0</td>\n",
       "      <td>8.00</td>\n",
       "      <td>11.0</td>\n",
       "      <td>11.00</td>\n",
       "      <td>18.0</td>\n",
       "    </tr>\n",
       "    <tr>\n",
       "      <th>12</th>\n",
       "      <td>444.0</td>\n",
       "      <td>10.040541</td>\n",
       "      <td>2.955376</td>\n",
       "      <td>1.0</td>\n",
       "      <td>9.00</td>\n",
       "      <td>11.0</td>\n",
       "      <td>12.00</td>\n",
       "      <td>18.0</td>\n",
       "    </tr>\n",
       "    <tr>\n",
       "      <th>13</th>\n",
       "      <td>244.0</td>\n",
       "      <td>10.155738</td>\n",
       "      <td>2.992502</td>\n",
       "      <td>1.0</td>\n",
       "      <td>9.00</td>\n",
       "      <td>10.0</td>\n",
       "      <td>13.00</td>\n",
       "      <td>18.0</td>\n",
       "    </tr>\n",
       "    <tr>\n",
       "      <th>14</th>\n",
       "      <td>424.0</td>\n",
       "      <td>11.584906</td>\n",
       "      <td>4.544225</td>\n",
       "      <td>1.0</td>\n",
       "      <td>8.75</td>\n",
       "      <td>12.0</td>\n",
       "      <td>14.00</td>\n",
       "      <td>25.0</td>\n",
       "    </tr>\n",
       "    <tr>\n",
       "      <th>15</th>\n",
       "      <td>160.0</td>\n",
       "      <td>12.618750</td>\n",
       "      <td>4.690244</td>\n",
       "      <td>2.0</td>\n",
       "      <td>9.00</td>\n",
       "      <td>14.0</td>\n",
       "      <td>15.00</td>\n",
       "      <td>25.0</td>\n",
       "    </tr>\n",
       "    <tr>\n",
       "      <th>16</th>\n",
       "      <td>161.0</td>\n",
       "      <td>12.055901</td>\n",
       "      <td>5.959497</td>\n",
       "      <td>2.0</td>\n",
       "      <td>7.00</td>\n",
       "      <td>12.0</td>\n",
       "      <td>16.00</td>\n",
       "      <td>25.0</td>\n",
       "    </tr>\n",
       "    <tr>\n",
       "      <th>17</th>\n",
       "      <td>287.0</td>\n",
       "      <td>13.529617</td>\n",
       "      <td>4.399419</td>\n",
       "      <td>3.0</td>\n",
       "      <td>10.00</td>\n",
       "      <td>14.0</td>\n",
       "      <td>17.00</td>\n",
       "      <td>24.0</td>\n",
       "    </tr>\n",
       "    <tr>\n",
       "      <th>18</th>\n",
       "      <td>177.0</td>\n",
       "      <td>15.299435</td>\n",
       "      <td>5.874217</td>\n",
       "      <td>2.0</td>\n",
       "      <td>11.00</td>\n",
       "      <td>15.0</td>\n",
       "      <td>18.00</td>\n",
       "      <td>28.0</td>\n",
       "    </tr>\n",
       "    <tr>\n",
       "      <th>19</th>\n",
       "      <td>89.0</td>\n",
       "      <td>11.651685</td>\n",
       "      <td>5.040971</td>\n",
       "      <td>2.0</td>\n",
       "      <td>8.00</td>\n",
       "      <td>11.0</td>\n",
       "      <td>15.00</td>\n",
       "      <td>28.0</td>\n",
       "    </tr>\n",
       "    <tr>\n",
       "      <th>20</th>\n",
       "      <td>49.0</td>\n",
       "      <td>12.755102</td>\n",
       "      <td>5.903850</td>\n",
       "      <td>3.0</td>\n",
       "      <td>8.00</td>\n",
       "      <td>11.0</td>\n",
       "      <td>20.00</td>\n",
       "      <td>20.0</td>\n",
       "    </tr>\n",
       "    <tr>\n",
       "      <th>21</th>\n",
       "      <td>56.0</td>\n",
       "      <td>9.053571</td>\n",
       "      <td>5.286070</td>\n",
       "      <td>2.0</td>\n",
       "      <td>5.00</td>\n",
       "      <td>8.5</td>\n",
       "      <td>11.00</td>\n",
       "      <td>21.0</td>\n",
       "    </tr>\n",
       "    <tr>\n",
       "      <th>22</th>\n",
       "      <td>21.0</td>\n",
       "      <td>16.285714</td>\n",
       "      <td>4.627557</td>\n",
       "      <td>7.0</td>\n",
       "      <td>16.00</td>\n",
       "      <td>16.0</td>\n",
       "      <td>22.00</td>\n",
       "      <td>22.0</td>\n",
       "    </tr>\n",
       "    <tr>\n",
       "      <th>23</th>\n",
       "      <td>33.0</td>\n",
       "      <td>10.393939</td>\n",
       "      <td>4.534172</td>\n",
       "      <td>3.0</td>\n",
       "      <td>8.00</td>\n",
       "      <td>10.0</td>\n",
       "      <td>11.00</td>\n",
       "      <td>23.0</td>\n",
       "    </tr>\n",
       "    <tr>\n",
       "      <th>24</th>\n",
       "      <td>113.0</td>\n",
       "      <td>15.380531</td>\n",
       "      <td>5.127514</td>\n",
       "      <td>4.0</td>\n",
       "      <td>11.00</td>\n",
       "      <td>17.0</td>\n",
       "      <td>17.00</td>\n",
       "      <td>24.0</td>\n",
       "    </tr>\n",
       "    <tr>\n",
       "      <th>25</th>\n",
       "      <td>50.0</td>\n",
       "      <td>15.480000</td>\n",
       "      <td>7.290587</td>\n",
       "      <td>2.0</td>\n",
       "      <td>9.00</td>\n",
       "      <td>15.0</td>\n",
       "      <td>23.25</td>\n",
       "      <td>26.0</td>\n",
       "    </tr>\n",
       "    <tr>\n",
       "      <th>26</th>\n",
       "      <td>46.0</td>\n",
       "      <td>11.782609</td>\n",
       "      <td>5.357914</td>\n",
       "      <td>2.0</td>\n",
       "      <td>9.00</td>\n",
       "      <td>10.0</td>\n",
       "      <td>14.00</td>\n",
       "      <td>26.0</td>\n",
       "    </tr>\n",
       "    <tr>\n",
       "      <th>28</th>\n",
       "      <td>82.0</td>\n",
       "      <td>16.121951</td>\n",
       "      <td>5.772199</td>\n",
       "      <td>2.0</td>\n",
       "      <td>11.00</td>\n",
       "      <td>18.0</td>\n",
       "      <td>18.00</td>\n",
       "      <td>28.0</td>\n",
       "    </tr>\n",
       "  </tbody>\n",
       "</table>\n",
       "</div>"
      ],
      "text/plain": [
       "    autotag                                                    \n",
       "      count       mean       std  min    25%   50%    75%   max\n",
       "Age                                                            \n",
       "1      60.0   2.300000  2.226954  1.0   1.00   1.0   3.00  12.0\n",
       "2      97.0   3.288660  2.601917  1.0   2.00   2.0   3.00  16.0\n",
       "3     137.0   4.445255  3.603348  1.0   3.00   3.0   4.00  18.0\n",
       "4     315.0   4.914286  2.912025  1.0   3.00   4.0   5.00  16.0\n",
       "5     333.0   5.243243  2.625923  1.0   4.00   5.0   6.00  16.0\n",
       "6     330.0   6.500000  3.072824  2.0   4.25   6.0   8.00  26.0\n",
       "7     523.0   7.267686  3.138112  1.0   5.00   7.0   8.00  26.0\n",
       "8     698.0   7.717765  2.863063  1.0   7.00   8.0   8.00  26.0\n",
       "9     860.0   8.318605  2.759828  1.0   7.00   9.0   9.00  26.0\n",
       "10    824.0   8.921117  3.054362  2.0   7.00  10.0  10.00  26.0\n",
       "11    958.0   9.415449  2.714690  1.0   8.00  11.0  11.00  18.0\n",
       "12    444.0  10.040541  2.955376  1.0   9.00  11.0  12.00  18.0\n",
       "13    244.0  10.155738  2.992502  1.0   9.00  10.0  13.00  18.0\n",
       "14    424.0  11.584906  4.544225  1.0   8.75  12.0  14.00  25.0\n",
       "15    160.0  12.618750  4.690244  2.0   9.00  14.0  15.00  25.0\n",
       "16    161.0  12.055901  5.959497  2.0   7.00  12.0  16.00  25.0\n",
       "17    287.0  13.529617  4.399419  3.0  10.00  14.0  17.00  24.0\n",
       "18    177.0  15.299435  5.874217  2.0  11.00  15.0  18.00  28.0\n",
       "19     89.0  11.651685  5.040971  2.0   8.00  11.0  15.00  28.0\n",
       "20     49.0  12.755102  5.903850  3.0   8.00  11.0  20.00  20.0\n",
       "21     56.0   9.053571  5.286070  2.0   5.00   8.5  11.00  21.0\n",
       "22     21.0  16.285714  4.627557  7.0  16.00  16.0  22.00  22.0\n",
       "23     33.0  10.393939  4.534172  3.0   8.00  10.0  11.00  23.0\n",
       "24    113.0  15.380531  5.127514  4.0  11.00  17.0  17.00  24.0\n",
       "25     50.0  15.480000  7.290587  2.0   9.00  15.0  23.25  26.0\n",
       "26     46.0  11.782609  5.357914  2.0   9.00  10.0  14.00  26.0\n",
       "28     82.0  16.121951  5.772199  2.0  11.00  18.0  18.00  28.0"
      ]
     },
     "execution_count": 3,
     "metadata": {},
     "output_type": "execute_result"
    }
   ],
   "source": [
    "df.groupby('Age').describe() #75 percent pe mean, freq mean repetition and unique means 56"
   ]
  },
  {
   "cell_type": "code",
   "execution_count": 4,
   "metadata": {},
   "outputs": [
    {
     "data": {
      "text/html": [
       "<div>\n",
       "<style scoped>\n",
       "    .dataframe tbody tr th:only-of-type {\n",
       "        vertical-align: middle;\n",
       "    }\n",
       "\n",
       "    .dataframe tbody tr th {\n",
       "        vertical-align: top;\n",
       "    }\n",
       "\n",
       "    .dataframe thead th {\n",
       "        text-align: right;\n",
       "    }\n",
       "</style>\n",
       "<table border=\"1\" class=\"dataframe\">\n",
       "  <thead>\n",
       "    <tr style=\"text-align: right;\">\n",
       "      <th></th>\n",
       "      <th>Excerpt</th>\n",
       "      <th>Book and Page</th>\n",
       "      <th>Age</th>\n",
       "      <th>autotag</th>\n",
       "      <th>length</th>\n",
       "    </tr>\n",
       "  </thead>\n",
       "  <tbody>\n",
       "    <tr>\n",
       "      <th>0</th>\n",
       "      <td>Tom and Ifra tug the big carrot.</td>\n",
       "      <td></td>\n",
       "      <td>1</td>\n",
       "      <td>1</td>\n",
       "      <td>32</td>\n",
       "    </tr>\n",
       "    <tr>\n",
       "      <th>1</th>\n",
       "      <td>Tom, Ifra, Nick and Lin tug.</td>\n",
       "      <td></td>\n",
       "      <td>1</td>\n",
       "      <td>1</td>\n",
       "      <td>28</td>\n",
       "    </tr>\n",
       "    <tr>\n",
       "      <th>2</th>\n",
       "      <td>Tom, Ifra, Nick, Lin and Sam tug.</td>\n",
       "      <td></td>\n",
       "      <td>1</td>\n",
       "      <td>1</td>\n",
       "      <td>33</td>\n",
       "    </tr>\n",
       "    <tr>\n",
       "      <th>3</th>\n",
       "      <td>Nick, Lin, Sam and Kit tug.</td>\n",
       "      <td></td>\n",
       "      <td>1</td>\n",
       "      <td>1</td>\n",
       "      <td>27</td>\n",
       "    </tr>\n",
       "    <tr>\n",
       "      <th>4</th>\n",
       "      <td>Up pops the big carrot!</td>\n",
       "      <td></td>\n",
       "      <td>1</td>\n",
       "      <td>3</td>\n",
       "      <td>23</td>\n",
       "    </tr>\n",
       "  </tbody>\n",
       "</table>\n",
       "</div>"
      ],
      "text/plain": [
       "                             Excerpt Book and Page  Age  autotag  length\n",
       "0   Tom and Ifra tug the big carrot.                  1        1      32\n",
       "1       Tom, Ifra, Nick and Lin tug.                  1        1      28\n",
       "2  Tom, Ifra, Nick, Lin and Sam tug.                  1        1      33\n",
       "3        Nick, Lin, Sam and Kit tug.                  1        1      27\n",
       "4            Up pops the big carrot!                  1        3      23"
      ]
     },
     "execution_count": 4,
     "metadata": {},
     "output_type": "execute_result"
    }
   ],
   "source": [
    "df['length'] = df['Excerpt'].apply(len)\n",
    "df.head()"
   ]
  },
  {
   "cell_type": "code",
   "execution_count": 5,
   "metadata": {},
   "outputs": [
    {
     "data": {
      "text/plain": [
       "0     1\n",
       "1     1\n",
       "2     1\n",
       "3     1\n",
       "4     1\n",
       "5     1\n",
       "6     1\n",
       "7     1\n",
       "8     1\n",
       "9     1\n",
       "10    1\n",
       "Name: Age, dtype: int64"
      ]
     },
     "execution_count": 5,
     "metadata": {},
     "output_type": "execute_result"
    }
   ],
   "source": [
    "df_labels = df['Age']\n",
    "df_labels.head(11)"
   ]
  },
  {
   "cell_type": "code",
   "execution_count": 6,
   "metadata": {},
   "outputs": [],
   "source": [
    "# MEASURE LEANGTH OF MESSAGES\n",
    "df['length'] = df['Excerpt'].apply(len)"
   ]
  },
  {
   "cell_type": "code",
   "execution_count": 7,
   "metadata": {},
   "outputs": [
    {
     "data": {
      "text/plain": [
       "array([[<AxesSubplot:title={'center':'1'}>,\n",
       "        <AxesSubplot:title={'center':'2'}>,\n",
       "        <AxesSubplot:title={'center':'3'}>,\n",
       "        <AxesSubplot:title={'center':'4'}>,\n",
       "        <AxesSubplot:title={'center':'5'}>],\n",
       "       [<AxesSubplot:title={'center':'6'}>,\n",
       "        <AxesSubplot:title={'center':'7'}>,\n",
       "        <AxesSubplot:title={'center':'8'}>,\n",
       "        <AxesSubplot:title={'center':'9'}>,\n",
       "        <AxesSubplot:title={'center':'10'}>],\n",
       "       [<AxesSubplot:title={'center':'11'}>,\n",
       "        <AxesSubplot:title={'center':'12'}>,\n",
       "        <AxesSubplot:title={'center':'13'}>,\n",
       "        <AxesSubplot:title={'center':'14'}>,\n",
       "        <AxesSubplot:title={'center':'15'}>],\n",
       "       [<AxesSubplot:title={'center':'16'}>,\n",
       "        <AxesSubplot:title={'center':'17'}>,\n",
       "        <AxesSubplot:title={'center':'18'}>,\n",
       "        <AxesSubplot:title={'center':'19'}>,\n",
       "        <AxesSubplot:title={'center':'20'}>],\n",
       "       [<AxesSubplot:title={'center':'21'}>,\n",
       "        <AxesSubplot:title={'center':'22'}>,\n",
       "        <AxesSubplot:title={'center':'23'}>,\n",
       "        <AxesSubplot:title={'center':'24'}>,\n",
       "        <AxesSubplot:title={'center':'25'}>],\n",
       "       [<AxesSubplot:title={'center':'26'}>,\n",
       "        <AxesSubplot:title={'center':'28'}>, <AxesSubplot:>,\n",
       "        <AxesSubplot:>, <AxesSubplot:>]], dtype=object)"
      ]
     },
     "execution_count": 7,
     "metadata": {},
     "output_type": "execute_result"
    },
    {
     "data": {
      "image/png": "[encoded data removed]",
      "text/plain": [
       "<Figure size 1080x432 with 30 Axes>"
      ]
     },
     "metadata": {
      "needs_background": "light"
     },
     "output_type": "display_data"
    }
   ],
   "source": [
    "# SHOW LENGTH IN GRAPHICAL FORM\n",
    "df.hist(column='length',by='Age',bins=50, figsize=(15,6))"
   ]
  },
  {
   "cell_type": "code",
   "execution_count": 8,
   "metadata": {},
   "outputs": [],
   "source": [
    "#Data cleaning starts\n",
    "\n",
    "df['Excerpt'] = df.Excerpt.map(lambda x: x.lower())\n",
    "df['Excerpt'] = df.Excerpt.str.replace('[^\\w\\s]', ' ') #remove comma and spaces"
   ]
  },
  {
   "cell_type": "code",
   "execution_count": 9,
   "metadata": {},
   "outputs": [],
   "source": [
    "df['Excerpt'] = df['Excerpt'].apply(nltk.word_tokenize)\n",
    "\n",
    "stops = set(stopwords.words(\"english\")) "
   ]
  },
  {
   "cell_type": "code",
   "execution_count": 10,
   "metadata": {},
   "outputs": [],
   "source": [
    "stemmer = PorterStemmer()\n",
    "df['Excerpt'] = df['Excerpt'].apply(lambda x: [stemmer.stem(y) for y in x]) #picks prefix and lem converts"
   ]
  },
  {
   "cell_type": "code",
   "execution_count": 11,
   "metadata": {},
   "outputs": [
    {
     "data": {
      "text/plain": [
       "0    [tom, and, ifra, tug, the, big, carrot]\n",
       "1           [tom, ifra, nick, and, lin, tug]\n",
       "2      [tom, ifra, nick, lin, and, sam, tug]\n",
       "3            [nick, lin, sam, and, kit, tug]\n",
       "4                [up, pop, the, big, carrot]\n",
       "Name: Excerpt, dtype: object"
      ]
     },
     "execution_count": 11,
     "metadata": {},
     "output_type": "execute_result"
    }
   ],
   "source": [
    "show = df['Excerpt']\n",
    "show.head()"
   ]
  },
  {
   "cell_type": "code",
   "execution_count": 12,
   "metadata": {},
   "outputs": [],
   "source": [
    "df['Excerpt'] = df['Excerpt'].apply(lambda x: ' '.join(x)) \n",
    "count_vect = CountVectorizer()\n",
    "counts = count_vect.fit_transform(df['Excerpt']);  #count numeric values of tokens"
   ]
  },
  {
   "cell_type": "code",
   "execution_count": 13,
   "metadata": {},
   "outputs": [],
   "source": [
    "transformer = TfidfTransformer().fit(counts)  #transform to numeric values\n",
    "counts = transformer.fit_transform(counts)"
   ]
  },
  {
   "cell_type": "code",
   "execution_count": 14,
   "metadata": {},
   "outputs": [],
   "source": [
    "X_train, X_test, y_train, y_test = train_test_split(counts, df['Age'], test_size=0.3, random_state=69) #"
   ]
  },
  {
   "cell_type": "code",
   "execution_count": 15,
   "metadata": {},
   "outputs": [],
   "source": [
    "from sklearn.tree import DecisionTreeClassifier\n",
    "from sklearn.naive_bayes import MultinomialNB #works on text\n",
    "from sklearn.svm import SVC\n",
    "from sklearn.ensemble import AdaBoostClassifier\n",
    "from sklearn.preprocessing import StandardScaler\n",
    "from sklearn.neighbors import KNeighborsClassifier"
   ]
  },
  {
   "cell_type": "code",
   "execution_count": 16,
   "metadata": {},
   "outputs": [
    {
     "data": {
      "text/plain": [
       "KNeighborsClassifier(n_neighbors=6)"
      ]
     },
     "execution_count": 16,
     "metadata": {},
     "output_type": "execute_result"
    }
   ],
   "source": [
    "classifier = KNeighborsClassifier(n_neighbors=6)\n",
    "classifier.fit(X_train, y_train)"
   ]
  },
  {
   "cell_type": "code",
   "execution_count": 17,
   "metadata": {},
   "outputs": [],
   "source": [
    "y_pred = classifier.predict(X_test)"
   ]
  },
  {
   "cell_type": "code",
   "execution_count": 18,
   "metadata": {},
   "outputs": [
    {
     "name": "stdout",
     "output_type": "stream",
     "text": [
      "[[ 15   2   0   2   0   0   1   0   0   0   0   0   0   0   0   0   0   0\n",
      "    0   0   0   0   0   0   0   0   0]\n",
      " [  3  17   1   0   3   0   2   0   2   1   0   0   0   0   0   0   0   0\n",
      "    0   0   0   0   0   0   0   0   0]\n",
      " [  2   2  15   3   1   0   3   3   0   0   0   0   0   0   0   0   0   0\n",
      "    0   0   0   0   0   0   0   0   0]\n",
      " [  1   9  10  69   2   0   2   3   3   1   1   0   0   1   0   1   0   0\n",
      "    0   0   0   0   0   0   0   0   0]\n",
      " [  0   1   8  14  66   3   3   5   3   1   1   1   0   0   0   0   0   1\n",
      "    0   0   0   0   0   0   0   0   0]\n",
      " [  0   3   3   4   3  70   5   7   3   0   9   0   0   0   0   0   0   0\n",
      "    0   0   0   0   0   0   0   0   0]\n",
      " [  1   0   7   7   9  11  77  22  13   1   6   0   0   0   0   0   0   0\n",
      "    0   0   1   0   0   0   0   0   0]\n",
      " [  0   4   2   5   3   7  26 118  17   3   3   0   0   1   0   0   1   0\n",
      "    0   1   0   0   0   0   0   0   0]\n",
      " [  1   2   3   8   4   7   9  27 165  23   6   0   0   1   0   0   0   1\n",
      "    0   0   0   0   0   0   0   0   0]\n",
      " [  0   5   5   3   4   4   4  10  43 135  14   0   0   1   0   0   0   0\n",
      "    3   0   0   0   0   1   0   0   0]\n",
      " [  0   0   3   4   8   9  10  11  12  48 147  39   3   1   0   2   0   1\n",
      "    0   0   0   0   0   0   0   0   0]\n",
      " [  4   2   0   2   4   0   0   5   3   3  55  23   0  13   0   0   2   1\n",
      "    0   0   0   0   0   1   0   0   0]\n",
      " [  2   0   0   0   1   2   1   0   1  22  18   1  19   7   6   0   0   2\n",
      "    0   0   0   0   0   0   0   0   0]\n",
      " [  1   2   2   5   3   1   0   5   7   4   4  29  12  27   0   6  19   2\n",
      "    0   0   0   0   0   0   0   0   0]\n",
      " [  2   0   0   1   1   1   0   0   1   2   0   1  10   0  16   0   0   2\n",
      "    1   8   0   0   0   0   0   0   0]\n",
      " [  1   1   1   2   0   0   4   5   3   1   4   1   0  18   0  11   1   1\n",
      "    0   0   0   0   0   0   0   0   0]\n",
      " [  2   0   0   0   0   0   2   0   4   0   3   0   0  24   0   0  34   0\n",
      "    0   0   0   0   1  14   0   1   0]\n",
      " [  0   2   0   0   1   2   0   1   1   0   6   0   0   1  18   0   0  18\n",
      "    1   0   0   0   0   0  10   4   2]\n",
      " [  0   1   0   0   0   1   1   0   1   0   0   0   0   0   9   0   1   0\n",
      "   11   0   0   0   0   0   0   0   3]\n",
      " [  0   0   0   1   0   0   1   1   3   0   0   0   0   0   0   1   1   0\n",
      "    1   3   0   0   0   1   0   0   0]\n",
      " [  1   0   0   2   1   0   0   0   1   0   1   0   0   0   0   7   1   0\n",
      "    0   0   1   0   0   0   0   0   0]\n",
      " [  0   0   0   0   0   0   0   0   0   0   0   0   0   0   0  13   0   0\n",
      "    0   0   0   0   0   0   0   0   0]\n",
      " [  0   0   0   1   0   0   2   2   2   0   0   0   0   0   0   0   4   0\n",
      "    0   0   0   0   0   0   0   0   0]\n",
      " [  0   0   0   0   0   0   0   0   0   0   0   0   0   0   0   0  27   0\n",
      "    0   0   0   0   0   6   0   0   0]\n",
      " [  0   0   0   0   0   0   0   0   0   0   1   0   0   0   4   0   0  11\n",
      "    0   0   0   0   0   0   0   0   0]\n",
      " [  0   0   0   1   0   0   0   0   0   0   1   0   0   0   0   0   1   4\n",
      "    0   0   0   0   0   0   0   1   0]\n",
      " [  0   0   0   0   0   0   0   0   0   0   0   0   0   0   1   0   0  15\n",
      "    9   0   0   0   0   0   0   0   1]]\n"
     ]
    }
   ],
   "source": [
    "print(confusion_matrix(y_test, y_pred)) #cant tell properly because of so much age data cause of 28 numeric values"
   ]
  },
  {
   "cell_type": "code",
   "execution_count": 19,
   "metadata": {},
   "outputs": [
    {
     "name": "stdout",
     "output_type": "stream",
     "text": [
      "0.46875\n"
     ]
    }
   ],
   "source": [
    "from sklearn.metrics import accuracy_score\n",
    "print(accuracy_score(y_test, y_pred))"
   ]
  },
  {
   "cell_type": "code",
   "execution_count": 20,
   "metadata": {},
   "outputs": [],
   "source": [
    "# implementing adabost \n",
    "ab = AdaBoostClassifier().fit(X_train, y_train)"
   ]
  },
  {
   "cell_type": "code",
   "execution_count": 21,
   "metadata": {},
   "outputs": [
    {
     "name": "stdout",
     "output_type": "stream",
     "text": [
      "0.1483274647887324\n"
     ]
    }
   ],
   "source": [
    "predicted = ab.predict(X_test)\n",
    "\n",
    "print(np.mean(predicted == y_test))"
   ]
  },
  {
   "cell_type": "code",
   "execution_count": 22,
   "metadata": {},
   "outputs": [],
   "source": [
    "# implementing naive bayes\n",
    "NB = MultinomialNB().fit(X_train, y_train)"
   ]
  },
  {
   "cell_type": "code",
   "execution_count": 23,
   "metadata": {},
   "outputs": [
    {
     "name": "stdout",
     "output_type": "stream",
     "text": [
      "0.2834507042253521\n"
     ]
    }
   ],
   "source": [
    "predicted = NB.predict(X_test)\n",
    "print(np.mean(predicted == y_test))"
   ]
  },
  {
   "cell_type": "code",
   "execution_count": 24,
   "metadata": {},
   "outputs": [
    {
     "name": "stdout",
     "output_type": "stream",
     "text": [
      "[[  0   0   0   0   0   0   0   5   3   4   8   0   0   0   0   0   0   0\n",
      "    0   0   0   0   0   0   0   0   0]\n",
      " [  0   0   0   0   0   0   0   3   8   3  15   0   0   0   0   0   0   0\n",
      "    0   0   0   0   0   0   0   0   0]\n",
      " [  0   0   0   0   0   0   0   6   8   4  11   0   0   0   0   0   0   0\n",
      "    0   0   0   0   0   0   0   0   0]\n",
      " [  0   0   0   0   0   0   0   6  32  14  51   0   0   0   0   0   0   0\n",
      "    0   0   0   0   0   0   0   0   0]\n",
      " [  0   0   0   0   1   0   0   5  33  20  48   0   0   0   0   0   0   0\n",
      "    0   0   0   0   0   0   0   0   0]\n",
      " [  0   0   0   0   0   0   0   3  24  15  65   0   0   0   0   0   0   0\n",
      "    0   0   0   0   0   0   0   0   0]\n",
      " [  0   0   0   0   0   0   5  20  30  11  89   0   0   0   0   0   0   0\n",
      "    0   0   0   0   0   0   0   0   0]\n",
      " [  0   0   0   0   0   0   2  80  40  18  51   0   0   0   0   0   0   0\n",
      "    0   0   0   0   0   0   0   0   0]\n",
      " [  0   0   0   0   0   0   0   5 168  40  44   0   0   0   0   0   0   0\n",
      "    0   0   0   0   0   0   0   0   0]\n",
      " [  0   0   0   0   0   0   0   0  38 133  61   0   0   0   0   0   0   0\n",
      "    0   0   0   0   0   0   0   0   0]\n",
      " [  0   0   0   0   0   0   0   0  13  30 255   0   0   0   0   0   0   0\n",
      "    0   0   0   0   0   0   0   0   0]\n",
      " [  0   0   0   0   0   0   0   1   4   5 104   2   0   2   0   0   0   0\n",
      "    0   0   0   0   0   0   0   0   0]\n",
      " [  0   0   0   0   0   0   0   0   5  33  43   0   0   1   0   0   0   0\n",
      "    0   0   0   0   0   0   0   0   0]\n",
      " [  0   0   0   0   0   0   0   0  13  17  93   6   0   0   0   0   0   0\n",
      "    0   0   0   0   0   0   0   0   0]\n",
      " [  0   0   0   0   0   0   0   0  10   4  32   0   0   0   0   0   0   0\n",
      "    0   0   0   0   0   0   0   0   0]\n",
      " [  0   0   0   0   0   0   0   0  11   1  41   0   0   1   0   0   0   0\n",
      "    0   0   0   0   0   0   0   0   0]\n",
      " [  0   0   0   0   0   0   0   0   5  15  65   0   0   0   0   0   0   0\n",
      "    0   0   0   0   0   0   0   0   0]\n",
      " [  0   0   0   0   0   0   0   0   6   2  59   0   0   0   0   0   0   0\n",
      "    0   0   0   0   0   0   0   0   0]\n",
      " [  0   0   0   0   0   0   0   0   7   7  14   0   0   0   0   0   0   0\n",
      "    0   0   0   0   0   0   0   0   0]\n",
      " [  0   0   0   0   0   0   0   0   3   0  10   0   0   0   0   0   0   0\n",
      "    0   0   0   0   0   0   0   0   0]\n",
      " [  0   0   0   0   0   0   0   1   4   1   9   0   0   0   0   0   0   0\n",
      "    0   0   0   0   0   0   0   0   0]\n",
      " [  0   0   0   0   0   0   0   0   0   0  13   0   0   0   0   0   0   0\n",
      "    0   0   0   0   0   0   0   0   0]\n",
      " [  0   0   0   0   0   0   0   1   2   0   7   0   0   0   0   0   1   0\n",
      "    0   0   0   0   0   0   0   0   0]\n",
      " [  0   0   0   0   0   0   0   0   0  11  22   0   0   0   0   0   0   0\n",
      "    0   0   0   0   0   0   0   0   0]\n",
      " [  0   0   0   0   0   0   0   0   6   0  10   0   0   0   0   0   0   0\n",
      "    0   0   0   0   0   0   0   0   0]\n",
      " [  0   0   0   0   0   0   0   0   0   1   7   0   0   0   0   0   0   0\n",
      "    0   0   0   0   0   0   0   0   0]\n",
      " [  0   0   0   0   0   0   0   0   0   4  22   0   0   0   0   0   0   0\n",
      "    0   0   0   0   0   0   0   0   0]]\n"
     ]
    }
   ],
   "source": [
    "print(confusion_matrix(y_test, predicted))"
   ]
  },
  {
   "cell_type": "code",
   "execution_count": 25,
   "metadata": {},
   "outputs": [
    {
     "name": "stdout",
     "output_type": "stream",
     "text": [
      "              precision    recall  f1-score   support\n",
      "\n",
      "           1       0.00      0.00      0.00        20\n",
      "           2       0.00      0.00      0.00        29\n",
      "           3       0.00      0.00      0.00        29\n",
      "           4       0.00      0.00      0.00       103\n",
      "           5       1.00      0.01      0.02       107\n",
      "           6       0.00      0.00      0.00       107\n",
      "           7       0.71      0.03      0.06       155\n",
      "           8       0.59      0.42      0.49       191\n",
      "           9       0.36      0.65      0.46       257\n",
      "          10       0.34      0.57      0.43       232\n",
      "          11       0.20      0.86      0.33       298\n",
      "          12       0.25      0.02      0.03       118\n",
      "          13       0.00      0.00      0.00        82\n",
      "          14       0.00      0.00      0.00       129\n",
      "          15       0.00      0.00      0.00        46\n",
      "          16       0.00      0.00      0.00        54\n",
      "          17       0.00      0.00      0.00        85\n",
      "          18       0.00      0.00      0.00        67\n",
      "          19       0.00      0.00      0.00        28\n",
      "          20       0.00      0.00      0.00        13\n",
      "          21       0.00      0.00      0.00        15\n",
      "          22       0.00      0.00      0.00        13\n",
      "          23       0.00      0.00      0.00        11\n",
      "          24       0.00      0.00      0.00        33\n",
      "          25       0.00      0.00      0.00        16\n",
      "          26       0.00      0.00      0.00         8\n",
      "          28       0.00      0.00      0.00        26\n",
      "\n",
      "    accuracy                           0.28      2272\n",
      "   macro avg       0.13      0.09      0.07      2272\n",
      "weighted avg       0.26      0.28      0.19      2272\n",
      "\n"
     ]
    },
    {
     "name": "stderr",
     "output_type": "stream",
     "text": [
      "/Users/mustafa/opt/anaconda3/lib/python3.8/site-packages/sklearn/metrics/_classification.py:1221: UndefinedMetricWarning: Precision and F-score are ill-defined and being set to 0.0 in labels with no predicted samples. Use `zero_division` parameter to control this behavior.\n",
      "  _warn_prf(average, modifier, msg_start, len(result))\n"
     ]
    }
   ],
   "source": [
    "print(classification_report(y_test,predicted))"
   ]
  },
  {
   "cell_type": "code",
   "execution_count": 26,
   "metadata": {},
   "outputs": [],
   "source": [
    "# implementing SVM\n",
    "sv = SVC().fit(X_train, y_train)"
   ]
  },
  {
   "cell_type": "code",
   "execution_count": 29,
   "metadata": {},
   "outputs": [
    {
     "name": "stdout",
     "output_type": "stream",
     "text": [
      "0.3692781690140845\n"
     ]
    }
   ],
   "source": [
    "predicted = sv.predict(X_test)\n",
    "print(np.mean(predicted == y_test))"
   ]
  },
  {
   "cell_type": "code",
   "execution_count": 30,
   "metadata": {},
   "outputs": [
    {
     "name": "stdout",
     "output_type": "stream",
     "text": [
      "[[  7   2   1   1   0   0   1   3   2   3   0   0   0   0   0   0   0   0\n",
      "    0   0   0   0   0   0   0   0   0]\n",
      " [  0   6   0   1   1   0   0   6   9   2   4   0   0   0   0   0   0   0\n",
      "    0   0   0   0   0   0   0   0   0]\n",
      " [  0   0   9   2   3   0   1   9   4   1   0   0   0   0   0   0   0   0\n",
      "    0   0   0   0   0   0   0   0   0]\n",
      " [  0   0   1  55   3   0   3  11  16   4   9   0   0   1   0   0   0   0\n",
      "    0   0   0   0   0   0   0   0   0]\n",
      " [  0   0   0   8  52   1   3  11  20   7   5   0   0   0   0   0   0   0\n",
      "    0   0   0   0   0   0   0   0   0]\n",
      " [  0   0   0   2   3  40   5  12  20   6  17   1   0   1   0   0   0   0\n",
      "    0   0   0   0   0   0   0   0   0]\n",
      " [  0   0   1   0   0   6  55  35  33   5  20   0   0   0   0   0   0   0\n",
      "    0   0   0   0   0   0   0   0   0]\n",
      " [  0   0   0   0   0   0  23 113  38   6   9   2   0   0   0   0   0   0\n",
      "    0   0   0   0   0   0   0   0   0]\n",
      " [  0   0   0   2   0   0   1  22 181  37  14   0   0   0   0   0   0   0\n",
      "    0   0   0   0   0   0   0   0   0]\n",
      " [  0   0   0   1   0   0   2  12  48 121  40   1   6   1   0   0   0   0\n",
      "    0   0   0   0   0   0   0   0   0]\n",
      " [  0   0   0   0   1   1   2   7  17  47 147  69   7   0   0   0   0   0\n",
      "    0   0   0   0   0   0   0   0   0]\n",
      " [  0   0   0   0   0   0   2   0   2   5  68   2   0  39   0   0   0   0\n",
      "    0   0   0   0   0   0   0   0   0]\n",
      " [  0   0   0   0   0   0   1   1   3  27  20   0   1  18  11   0   0   0\n",
      "    0   0   0   0   0   0   0   0   0]\n",
      " [  0   0   0   0   0   0   1   1  13   5  15  38   7  17   0  11  21   0\n",
      "    0   0   0   0   0   0   0   0   0]\n",
      " [  0   0   0   1   0   0   0   1   6   2   2   0  12   1   2   0   0   8\n",
      "    4   7   0   0   0   0   0   0   0]\n",
      " [  0   0   0   0   0   0   0   1   7   2   8   0   0  23   0   1   0   0\n",
      "    0   0  12   0   0   0   0   0   0]\n",
      " [  0   0   0   0   0   0   1   0   7   2   8   0   0  27   0   0  20   0\n",
      "    0   0   0   0   1  16   0   3   0]\n",
      " [  0   0   0   0   0   0   0   1   6   1   5   0   0   1  19   0   0   5\n",
      "    0   0   0   0   0   0  16   6   7]\n",
      " [  0   0   0   0   0   0   0   1   4   3   2   0   0   0   7   0   0   0\n",
      "    5   0   0   0   0   0   0   0   6]\n",
      " [  0   0   0   1   0   0   0   1   8   0   3   0   0   0   0   0   0   0\n",
      "    0   0   0   0   0   0   0   0   0]\n",
      " [  0   0   0   0   0   0   0   0   2   1   2   0   0   0   0  10   0   0\n",
      "    0   0   0   0   0   0   0   0   0]\n",
      " [  0   0   0   0   0   0   0   0   0   0   1   0   0   0   0  12   0   0\n",
      "    0   0   0   0   0   0   0   0   0]\n",
      " [  0   0   0   0   0   0   1   0   1   0   1   0   0   0   0   0   8   0\n",
      "    0   0   0   0   0   0   0   0   0]\n",
      " [  0   0   0   0   0   0   0   0   0   0   1   0   0   1   0   0  31   0\n",
      "    0   0   0   0   0   0   0   0   0]\n",
      " [  0   0   0   0   0   0   0   0   2   0   1   0   0   1   1   0   0  11\n",
      "    0   0   0   0   0   0   0   0   0]\n",
      " [  0   0   0   0   0   0   0   0   0   0   2   0   0   0   0   0   1   5\n",
      "    0   0   0   0   0   0   0   0   0]\n",
      " [  0   0   0   0   0   0   0   0   0   2   0   0   0   0   0   0   0  16\n",
      "    8   0   0   0   0   0   0   0   0]]\n"
     ]
    }
   ],
   "source": [
    "print(confusion_matrix(y_test, predicted))"
   ]
  },
  {
   "cell_type": "code",
   "execution_count": 31,
   "metadata": {},
   "outputs": [],
   "source": [
    "#print(classification_report(y_test,predicted))"
   ]
  },
  {
   "cell_type": "code",
   "execution_count": 32,
   "metadata": {},
   "outputs": [],
   "source": [
    "# implementing disession tree\n",
    "\n",
    "dt = DecisionTreeClassifier().fit(X_train, y_train)"
   ]
  },
  {
   "cell_type": "code",
   "execution_count": 33,
   "metadata": {},
   "outputs": [
    {
     "name": "stdout",
     "output_type": "stream",
     "text": [
      "0.2108274647887324\n"
     ]
    }
   ],
   "source": [
    "predicted = dt.predict(X_test)\n",
    "\n",
    "print(np.mean(predicted == y_test))"
   ]
  },
  {
   "cell_type": "code",
   "execution_count": 34,
   "metadata": {},
   "outputs": [
    {
     "name": "stdout",
     "output_type": "stream",
     "text": [
      "[[11  4  3  0  1  0  0  1  0  0  0  0  0  0  0  0  0  0  0  0  0  0  0  0\n",
      "   0  0  0]\n",
      " [ 4  8  3  3  3  1  2  1  2  1  0  0  0  1  0  0  0  0  0  0  0  0  0  0\n",
      "   0  0  0]\n",
      " [ 1  2 12  2  4  2  0  2  1  1  0  0  1  1  0  0  0  0  0  0  0  0  0  0\n",
      "   0  0  0]\n",
      " [ 2  3  9 38 16  5  4  7  6  4  2  0  0  3  1  2  0  0  0  1  0  0  0  0\n",
      "   0  0  0]\n",
      " [ 1  1 13 17 28  8  7  8 10  4  4  0  1  0  0  4  0  0  0  0  0  0  0  0\n",
      "   0  1  0]\n",
      " [ 2  0  5 12  9 26  8 16  8  7  6  0  0  2  2  2  0  0  0  1  0  0  0  0\n",
      "   0  1  0]\n",
      " [ 1  2  3  9 10 11 19 38 22 13 12  1  1  6  1  2  1  1  1  0  0  0  0  1\n",
      "   0  0  0]\n",
      " [ 2  0  5  4  8  9 38 59 22 13 17  4  0  4  1  1  0  1  0  0  3  0  0  0\n",
      "   0  0  0]\n",
      " [ 0  3  0  5 10 12 20 36 74 44 23 11  1 11  2  2  1  1  1  0  0  0  0  0\n",
      "   0  0  0]\n",
      " [ 0  0  2  8  8  8 10 17 51 58 44  3 10  4  2  2  2  1  1  0  0  0  0  0\n",
      "   0  1  0]\n",
      " [ 0  1  1  3  6  4 14 11 21 54 87 76  9  7  1  1  0  0  0  0  0  0  0  1\n",
      "   0  1  0]\n",
      " [ 0  0  1  0  2  0  1  2  2  6 59  5  1 38  0  0  0  0  0  0  0  0  0  0\n",
      "   0  1  0]\n",
      " [ 0  0  0  0  1  0  5  1  2 24 18  1  3 15 12  0  0  0  0  0  0  0  0  0\n",
      "   0  0  0]\n",
      " [ 0  0  2  0  2  2  3  3 11  1  6 41 10 12  0 13 20  1  0  0  0  0  0  1\n",
      "   1  0  0]\n",
      " [ 0  0  0  1  0  0  2  2  1  0  0  0 11  3  3  0  0  9  6  7  0  0  0  0\n",
      "   1  0  0]\n",
      " [ 0  0  1  1  0  1  0  1  3  0  3  0  0 24  0  2  1  0  0  0 14  2  0  0\n",
      "   1  0  0]\n",
      " [ 0  0  1  0  1  0  0  0  4  0  2  0  0 26  0  0 16  2  0  0  0  0  6 24\n",
      "   0  3  0]\n",
      " [ 0  0  0  0  1  0  1  0  1  0  1  1  0  0 19  0  1  6  0  0  0  0  0  0\n",
      "  20  9  7]\n",
      " [ 0  0  1  0  0  0  0  1  2  0  1  0  0  1  7  0  0  1  5  0  0  0  0  0\n",
      "   1  0  8]\n",
      " [ 0  0  1  1  0  0  1  1  3  1  1  1  0  0  2  0  0  0  0  1  0  0  0  0\n",
      "   0  0  0]\n",
      " [ 0  0  1  0  0  0  0  1  0  0  0  0  0  0  0 12  1  0  0  0  0  0  0  0\n",
      "   0  0  0]\n",
      " [ 0  0  0  1  0  0  0  0  0  0  0  0  0  0  0 12  0  0  0  0  0  0  0  0\n",
      "   0  0  0]\n",
      " [ 0  0  1  0  0  0  0  0  0  0  1  0  0  0  0  0  9  0  0  0  0  0  0  0\n",
      "   0  0  0]\n",
      " [ 0  0  0  0  0  0  0  0  0  0  0  0  0  0  0  0 30  0  0  0  0  0  0  3\n",
      "   0  0  0]\n",
      " [ 0  0  0  0  0  0  0  0  0  0  0  0  0  0  1  0  0 12  0  0  0  0  0  0\n",
      "   3  0  0]\n",
      " [ 0  0  0  0  0  0  0  0  0  0  1  1  0  0  0  0  0  6  0  0  0  0  0  0\n",
      "   0  0  0]\n",
      " [ 0  0  0  0  0  0  0  0  0  0  1  0  0  0  0  0  0 16  9  0  0  0  0  0\n",
      "   0  0  0]]\n"
     ]
    }
   ],
   "source": [
    "print(confusion_matrix(y_test, predicted))"
   ]
  },
  {
   "cell_type": "code",
   "execution_count": 35,
   "metadata": {},
   "outputs": [],
   "source": [
    "my_dataset = pd.read_csv('/Users/mustafa/Desktop/student age prediction task/reading-age-data.csv', encoding='latin-1')"
   ]
  },
  {
   "cell_type": "code",
   "execution_count": 36,
   "metadata": {},
   "outputs": [
    {
     "name": "stdout",
     "output_type": "stream",
     "text": [
      "prediction: [ 1  1  1 ...  8  1 15]\n"
     ]
    }
   ],
   "source": [
    "# converting content to lower case\n",
    "pred = (my_dataset['Excerpt'].str.lower())\n",
    "# printing predictions made by model\n",
    "print(\"prediction: {}\". format(classifier.predict(count_vect.transform(pred.values.astype('U')))))\n",
    "# saving predictions in a variable\n",
    "my_pred = dt.predict(count_vect.transform(pred.values.astype('U')))\n",
    "# saving predicted labels in .csv file\n",
    "my_dataset['autotag'] = my_pred\n",
    "my_dataset.to_csv('/Users/mustafa/Desktop/student age prediction task/reading-age-data.csv',index = False)"
   ]
  },
  {
   "cell_type": "code",
   "execution_count": null,
   "metadata": {},
   "outputs": [],
   "source": []
  }
 ],
 "metadata": {
  "kernelspec": {
   "display_name": "Python 3",
   "language": "python",
   "name": "python3"
  },
  "language_info": {
   "codemirror_mode": {
    "name": "ipython",
    "version": 3
   },
   "file_extension": ".py",
   "mimetype": "text/x-python",
   "name": "python",
   "nbconvert_exporter": "python",
   "pygments_lexer": "ipython3",
   "version": "3.8.5"
  }
 },
 "nbformat": 4,
 "nbformat_minor": 4
}
